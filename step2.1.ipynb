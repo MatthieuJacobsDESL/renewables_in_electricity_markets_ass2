{
 "cells": [
  {
   "cell_type": "code",
   "execution_count": 1,
   "id": "611c17a8",
   "metadata": {},
   "outputs": [],
   "source": [
    "import numpy as np\n",
    "import matplotlib.pyplot as plt\n",
    "import pandas as pd\n",
    "import importlib\n",
    "import code_step2 as cs"
   ]
  },
  {
   "cell_type": "markdown",
   "id": "b4be21f4",
   "metadata": {},
   "source": [
    "# Load data"
   ]
  },
  {
   "cell_type": "code",
   "execution_count": 2,
   "id": "8b242552",
   "metadata": {},
   "outputs": [
    {
     "name": "stdout",
     "output_type": "stream",
     "text": [
      "(300, 60)\n",
      "(100, 60)\n",
      "(200, 60)\n"
     ]
    }
   ],
   "source": [
    "importlib.reload(cs)\n",
    "num_profiles = 300\n",
    "num_minutes = 60\n",
    "\n",
    "# Generate 300 stochastic load profiles\n",
    "all_profiles = np.array([cs.generate_profile(num_minutes=num_minutes) for _ in range(num_profiles)])\n",
    "print(all_profiles.shape)\n",
    "\n",
    "in_sample = all_profiles[0:100,:].copy()\n",
    "out_sample = all_profiles[100:,:].copy()\n",
    "print(in_sample.shape)\n",
    "print(out_sample.shape)"
   ]
  },
  {
   "cell_type": "markdown",
   "id": "9bba175f",
   "metadata": {},
   "source": [
    "# Cvar"
   ]
  },
  {
   "cell_type": "code",
   "execution_count": null,
   "id": "8d0ef994",
   "metadata": {},
   "outputs": [
    {
     "name": "stdout",
     "output_type": "stream",
     "text": [
      "Offered capacity for FCR-D UP: 403.6610925972358 kW\n"
     ]
    }
   ],
   "source": [
    "importlib.reload(cs)\n",
    "\n",
    "eps=0.1\n",
    "cvar_capacity, cvar_problem = cs.cvar(in_sample, eps, verbose=False)\n",
    "print(f'Offered capacity for FCR-D UP: {cvar_capacity} kW')"
   ]
  },
  {
   "cell_type": "markdown",
   "id": "59b249b5",
   "metadata": {},
   "source": [
    "# ALSO-X"
   ]
  },
  {
   "cell_type": "code",
   "execution_count": 4,
   "id": "2bd3d66e",
   "metadata": {},
   "outputs": [
    {
     "name": "stdout",
     "output_type": "stream",
     "text": [
      "Iteration: 0\n",
      "0.1799999999996538 0.3 0 0.3\n",
      "Iteration: 1\n",
      "0.08999999999991576 0.3 0.15 0.15\n",
      "Iteration: 2\n",
      "0.1349999999997012 0.22499999999999998 0.15 0.07499999999999998\n",
      "Iteration: 3\n",
      "0.11249999999968584 0.1875 0.15 0.037500000000000006\n",
      "Iteration: 4\n",
      "0.1012499999998871 0.16875 0.15 0.018750000000000017\n",
      "Iteration: 5\n",
      "0.0956249999999875 0.16875 0.159375 0.009375000000000022\n",
      "Iteration: 6\n",
      "0.09843749999999242 0.16875 0.1640625 0.004687500000000011\n",
      "Iteration: 7\n",
      "0.09984374999980329 0.16875 0.16640625 0.0023437500000000056\n",
      "Iteration: 8\n",
      "0.10054687499997228 0.16757812500000002 0.16640625 0.0011718750000000167\n",
      "Iteration: 9\n",
      "0.10019531249994419 0.1669921875 0.16640625 0.0005859374999999944\n",
      "Iteration: 10\n",
      "0.10001953124998916 0.16669921875 0.16640625 0.00029296874999998335\n",
      "Iteration: 11\n",
      "0.09993164062498495 0.16669921875 0.166552734375 0.0001464843749999778\n",
      "Iteration: 12\n",
      "0.09997558593748666 0.16669921875 0.1666259765625 7.32421874999889e-05\n",
      "Offered capacity for FCR-D UP: 240.8975705745045 kW\n"
     ]
    }
   ],
   "source": [
    "importlib.reload(cs)\n",
    "\n",
    "eps=0.1\n",
    "also_x_capacity, also_x_problem = cs.also_x(in_sample, eps, verbose=False)\n",
    "print(f'Offered capacity for FCR-D UP: {also_x_capacity} kW')"
   ]
  },
  {
   "cell_type": "markdown",
   "id": "1f66dfdc",
   "metadata": {},
   "source": [
    "# Out of sample analysis"
   ]
  },
  {
   "cell_type": "code",
   "execution_count": 22,
   "id": "4dba3574",
   "metadata": {},
   "outputs": [
    {
     "data": {
      "text/plain": [
       "261.32990890273715"
      ]
     },
     "execution_count": 22,
     "metadata": {},
     "output_type": "execute_result"
    }
   ],
   "source": [
    "all_out_samples = out_sample.flatten()\n",
    "\n",
    "np.quantile(all_out_samples, 0.1)"
   ]
  }
 ],
 "metadata": {
  "kernelspec": {
   "display_name": "Python ppower",
   "language": "python",
   "name": "ppower"
  },
  "language_info": {
   "codemirror_mode": {
    "name": "ipython",
    "version": 3
   },
   "file_extension": ".py",
   "mimetype": "text/x-python",
   "name": "python",
   "nbconvert_exporter": "python",
   "pygments_lexer": "ipython3",
   "version": "3.11.8"
  }
 },
 "nbformat": 4,
 "nbformat_minor": 5
}
