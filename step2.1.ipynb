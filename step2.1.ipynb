{
 "cells": [
  {
   "cell_type": "code",
   "execution_count": 1,
   "id": "611c17a8",
   "metadata": {},
   "outputs": [],
   "source": [
    "import numpy as np\n",
    "import matplotlib.pyplot as plt\n",
    "import pandas as pd\n",
    "import importlib\n",
    "import code_step2 as cs"
   ]
  },
  {
   "cell_type": "markdown",
   "id": "b4be21f4",
   "metadata": {},
   "source": [
    "# Load data"
   ]
  },
  {
   "cell_type": "code",
   "execution_count": 2,
   "id": "8b242552",
   "metadata": {},
   "outputs": [
    {
     "name": "stdout",
     "output_type": "stream",
     "text": [
      "(300, 60)\n",
      "(100, 60)\n",
      "(200, 60)\n"
     ]
    }
   ],
   "source": [
    "importlib.reload(cs)\n",
    "num_profiles = 300\n",
    "num_minutes = 60\n",
    "\n",
    "# Generate 300 stochastic load profiles\n",
    "all_profiles = np.array([cs.generate_profile(num_minutes=num_minutes) for _ in range(num_profiles)])\n",
    "print(all_profiles.shape)\n",
    "\n",
    "in_sample = all_profiles[0:100,:].copy()\n",
    "out_sample = all_profiles[100:,:].copy()\n",
    "print(in_sample.shape)\n",
    "print(out_sample.shape)"
   ]
  },
  {
   "cell_type": "markdown",
   "id": "9bba175f",
   "metadata": {},
   "source": [
    "# Cvar"
   ]
  },
  {
   "cell_type": "code",
   "execution_count": 20,
   "id": "8d0ef994",
   "metadata": {},
   "outputs": [
    {
     "name": "stdout",
     "output_type": "stream",
     "text": [
      "Offered capacity for FCR-D UP: 250.19494883498194 kW\n"
     ]
    }
   ],
   "source": [
    "importlib.reload(cs)\n",
    "\n",
    "eps=0.1\n",
    "cvar_capacity, cvar_problem = cs.cvar(in_sample, eps, verbose=False)\n",
    "print(f'Offered capacity for FCR-D UP: {cvar_capacity} kW')"
   ]
  },
  {
   "cell_type": "markdown",
   "id": "59b249b5",
   "metadata": {},
   "source": [
    "# ALSO-X"
   ]
  },
  {
   "cell_type": "code",
   "execution_count": 19,
   "id": "2bd3d66e",
   "metadata": {},
   "outputs": [
    {
     "name": "stdout",
     "output_type": "stream",
     "text": [
      "Iteration: 0\n",
      "0.2999999999993327 0.5 0 0.5\n",
      "Iteration: 1\n",
      "0.14999999999998853 0.25 0 0.25\n",
      "Iteration: 2\n",
      "0.07499999999971678 0.25 0.125 0.125\n",
      "Iteration: 3\n",
      "0.11249999999968584 0.1875 0.125 0.0625\n",
      "Iteration: 4\n",
      "0.09374999999996116 0.1875 0.15625 0.03125\n",
      "Iteration: 5\n",
      "0.10312499999997049 0.171875 0.15625 0.015625\n",
      "Iteration: 6\n",
      "0.09843749999999242 0.171875 0.1640625 0.0078125\n",
      "Iteration: 7\n",
      "0.10078124999999537 0.16796875 0.1640625 0.00390625\n",
      "Iteration: 8\n",
      "0.09960937499999378 0.16796875 0.166015625 0.001953125\n",
      "Iteration: 9\n",
      "0.10019531249994419 0.1669921875 0.166015625 0.0009765625\n",
      "Iteration: 10\n",
      "0.0999023437499839 0.1669921875 0.16650390625 0.00048828125\n",
      "Iteration: 11\n",
      "0.10004882812479336 0.166748046875 0.16650390625 0.000244140625\n",
      "Iteration: 12\n",
      "0.09997558593748666 0.166748046875 0.1666259765625 0.0001220703125\n",
      "Iteration: 13\n",
      "0.10001220703123852 0.16668701171875 0.1666259765625 6.103515625e-05\n",
      "Offered capacity for FCR-D UP: 240.90098036091675 kW\n"
     ]
    }
   ],
   "source": [
    "importlib.reload(cs)\n",
    "\n",
    "eps=0.1\n",
    "also_x_capacity, also_x_problem = cs.also_x(in_sample, eps, verbose=False)\n",
    "print(f'Offered capacity for FCR-D UP: {also_x_capacity} kW')"
   ]
  },
  {
   "cell_type": "markdown",
   "id": "1f66dfdc",
   "metadata": {},
   "source": [
    "# Out of sample analysis"
   ]
  },
  {
   "cell_type": "code",
   "execution_count": null,
   "id": "551614b8",
   "metadata": {},
   "outputs": [
    {
     "name": "stdout",
     "output_type": "stream",
     "text": [
      "20.383325193911908\n",
      "11.085946933434464\n"
     ]
    }
   ],
   "source": [
    "all_out_samples = out_sample.flatten()\n",
    "\n",
    "all_out_samples-also_x_capacity\n",
    "print(np.quantile(all_out_samples-also_x_capacity, 0.1))\n",
    "print(np.quantile(all_out_samples-cvar_capacity, 0.1))\n",
    "\n",
    "# these values are positive (meaning the probability of reserve shortfall is less than 10% (if my logic is correct))\n"
   ]
  }
 ],
 "metadata": {
  "kernelspec": {
   "display_name": "Python ppower",
   "language": "python",
   "name": "ppower"
  },
  "language_info": {
   "codemirror_mode": {
    "name": "ipython",
    "version": 3
   },
   "file_extension": ".py",
   "mimetype": "text/x-python",
   "name": "python",
   "nbconvert_exporter": "python",
   "pygments_lexer": "ipython3",
   "version": "3.11.8"
  }
 },
 "nbformat": 4,
 "nbformat_minor": 5
}
