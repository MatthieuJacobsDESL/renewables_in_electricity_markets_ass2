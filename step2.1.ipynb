{
 "cells": [
  {
   "cell_type": "code",
   "execution_count": 1,
   "id": "611c17a8",
   "metadata": {},
   "outputs": [],
   "source": [
    "import numpy as np\n",
    "import matplotlib.pyplot as plt\n",
    "import pandas as pd\n",
    "import importlib\n",
    "import code_step2 as cs"
   ]
  },
  {
   "cell_type": "markdown",
   "id": "b4be21f4",
   "metadata": {},
   "source": [
    "# Load data"
   ]
  },
  {
   "cell_type": "code",
   "execution_count": 2,
   "id": "8b242552",
   "metadata": {},
   "outputs": [
    {
     "name": "stdout",
     "output_type": "stream",
     "text": [
      "(300, 60)\n",
      "(100, 60)\n",
      "(200, 60)\n"
     ]
    }
   ],
   "source": [
    "importlib.reload(cs)\n",
    "num_profiles = 300\n",
    "num_minutes = 60\n",
    "\n",
    "# Generate 300 stochastic load profiles\n",
    "all_profiles = np.array([cs.generate_profile(num_minutes=num_minutes) for _ in range(num_profiles)])\n",
    "print(all_profiles.shape)\n",
    "\n",
    "in_sample = all_profiles[0:100,:].copy()\n",
    "out_sample = all_profiles[100:,:].copy()\n",
    "print(in_sample.shape)\n",
    "print(out_sample.shape)"
   ]
  },
  {
   "cell_type": "markdown",
   "id": "9bba175f",
   "metadata": {},
   "source": [
    "# Cvar"
   ]
  },
  {
   "cell_type": "code",
   "execution_count": 35,
   "id": "8d0ef994",
   "metadata": {},
   "outputs": [
    {
     "name": "stdout",
     "output_type": "stream",
     "text": [
      "Offered capacity for FCR-D UP: 220.06002224617973 kW\n"
     ]
    }
   ],
   "source": [
    "importlib.reload(cs)\n",
    "\n",
    "eps=0.1\n",
    "cvar_capacity, cvar_problem = cs.cvar(in_sample, eps, verbose=False)\n",
    "print(f'Offered capacity for FCR-D UP: {cvar_capacity} kW')"
   ]
  },
  {
   "cell_type": "markdown",
   "id": "59b249b5",
   "metadata": {},
   "source": [
    "# ALSO-X"
   ]
  },
  {
   "cell_type": "code",
   "execution_count": 34,
   "id": "2bd3d66e",
   "metadata": {},
   "outputs": [
    {
     "name": "stdout",
     "output_type": "stream",
     "text": [
      "Iteration: 0\n",
      "0.0 0.3 0 0.3\n",
      "Iteration: 1\n",
      "0.0 0.15 0 0.15\n",
      "Iteration: 2\n",
      "0.0 0.075 0 0.075\n",
      "Iteration: 3\n",
      "0.0 0.0375 0 0.0375\n",
      "Iteration: 4\n",
      "0.0 0.01875 0 0.01875\n",
      "Iteration: 5\n",
      "0.0 0.009375 0 0.009375\n",
      "Iteration: 6\n",
      "0.0 0.0046875 0 0.0046875\n",
      "Iteration: 7\n",
      "0.0 0.00234375 0 0.00234375\n",
      "Iteration: 8\n",
      "0.0 0.001171875 0 0.001171875\n",
      "Iteration: 9\n",
      "0.0 0.0005859375 0 0.0005859375\n",
      "Iteration: 10\n",
      "0.0 0.00029296875 0 0.00029296875\n",
      "Iteration: 11\n",
      "0.0 0.000146484375 0 0.000146484375\n",
      "Iteration: 12\n",
      "0.0 7.32421875e-05 0 7.32421875e-05\n",
      "Offered capacity for FCR-D UP: 220.0600222461817 kW\n"
     ]
    }
   ],
   "source": [
    "importlib.reload(cs)\n",
    "\n",
    "eps=0.1\n",
    "also_x_capacity, also_x_problem = cs.also_x(in_sample, eps, verbose=False)\n",
    "print(f'Offered capacity for FCR-D UP: {also_x_capacity} kW')"
   ]
  },
  {
   "cell_type": "markdown",
   "id": "1f66dfdc",
   "metadata": {},
   "source": [
    "# Out of sample analysis"
   ]
  },
  {
   "cell_type": "code",
   "execution_count": 22,
   "id": "4dba3574",
   "metadata": {},
   "outputs": [
    {
     "data": {
      "text/plain": [
       "261.32990890273715"
      ]
     },
     "execution_count": 22,
     "metadata": {},
     "output_type": "execute_result"
    }
   ],
   "source": [
    "all_out_samples = out_sample.flatten()\n",
    "\n",
    "np.quantile(all_out_samples, 0.1)"
   ]
  }
 ],
 "metadata": {
  "kernelspec": {
   "display_name": "Python ppower",
   "language": "python",
   "name": "ppower"
  },
  "language_info": {
   "codemirror_mode": {
    "name": "ipython",
    "version": 3
   },
   "file_extension": ".py",
   "mimetype": "text/x-python",
   "name": "python",
   "nbconvert_exporter": "python",
   "pygments_lexer": "ipython3",
   "version": "3.11.8"
  }
 },
 "nbformat": 4,
 "nbformat_minor": 5
}
