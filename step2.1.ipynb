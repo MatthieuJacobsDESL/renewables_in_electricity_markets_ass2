{
 "cells": [
  {
   "cell_type": "code",
   "execution_count": 1,
   "id": "611c17a8",
   "metadata": {},
   "outputs": [],
   "source": [
    "import numpy as np\n",
    "import matplotlib.pyplot as plt\n",
    "import pandas as pd\n",
    "import importlib\n",
    "import code_step2 as cs"
   ]
  },
  {
   "cell_type": "markdown",
   "id": "b4be21f4",
   "metadata": {},
   "source": [
    "# Load data"
   ]
  },
  {
   "cell_type": "code",
   "execution_count": 2,
   "id": "8b242552",
   "metadata": {},
   "outputs": [
    {
     "name": "stdout",
     "output_type": "stream",
     "text": [
      "(300, 60)\n",
      "(100, 60)\n",
      "(200, 60)\n"
     ]
    }
   ],
   "source": [
    "importlib.reload(cs)\n",
    "num_profiles = 300\n",
    "num_minutes = 60\n",
    "\n",
    "# Generate 300 stochastic load profiles\n",
    "all_profiles = np.array([cs.generate_profile(num_minutes=num_minutes) for _ in range(num_profiles)])\n",
    "print(all_profiles.shape)\n",
    "\n",
    "in_sample = all_profiles[0:100,:].copy() # use first 100 profiles for in-sample\n",
    "out_sample = all_profiles[100:,:].copy() # use the rest for out-of-sample analysis\n",
    "print(in_sample.shape)\n",
    "print(out_sample.shape)"
   ]
  },
  {
   "cell_type": "markdown",
   "id": "9bba175f",
   "metadata": {},
   "source": [
    "# Cvar"
   ]
  },
  {
   "cell_type": "code",
   "execution_count": 3,
   "id": "8d0ef994",
   "metadata": {},
   "outputs": [
    {
     "name": "stdout",
     "output_type": "stream",
     "text": [
      "Offered capacity for FCR-D UP: 242.9268777183674 kW\n"
     ]
    }
   ],
   "source": [
    "importlib.reload(cs)\n",
    "\n",
    "eps=0.1\n",
    "cvar_capacity, cvar_problem = cs.cvar(in_sample, eps, verbose=False)\n",
    "print(f'Offered capacity for FCR-D UP: {cvar_capacity} kW')"
   ]
  },
  {
   "cell_type": "code",
   "execution_count": 4,
   "id": "8beb917f",
   "metadata": {},
   "outputs": [
    {
     "data": {
      "text/plain": [
       "0.04583333333333333"
      ]
     },
     "execution_count": 4,
     "metadata": {},
     "output_type": "execute_result"
    }
   ],
   "source": [
    "# In-sample reserve shortage probability\n",
    "np.mean(in_sample-cvar_capacity < 0)"
   ]
  },
  {
   "cell_type": "markdown",
   "id": "59b249b5",
   "metadata": {},
   "source": [
    "# ALSO-X"
   ]
  },
  {
   "cell_type": "code",
   "execution_count": 14,
   "id": "2bd3d66e",
   "metadata": {},
   "outputs": [
    {
     "name": "stdout",
     "output_type": "stream",
     "text": [
      "1.0000000000000007\n",
      "1.0000000000000007\n",
      "1.0000000000000007\n",
      "0.9900000000000007\n",
      "0.8300000000000005\n",
      "0.6900000000000004\n",
      "0.6100000000000003\n",
      "0.5200000000000002\n",
      "0.47000000000000025\n",
      "0.4000000000000002\n",
      "0.3900000000000002\n",
      "0.36000000000000015\n",
      "0.35000000000000014\n",
      "0.35000000000000014\n",
      "0.3100000000000001\n",
      "0.2800000000000001\n",
      "0.24000000000000007\n",
      "0.20000000000000004\n",
      "0.12999999999999998\n",
      "0.09\n",
      "0.09999999999999999\n",
      "0.10999999999999999\n",
      "0.09999999999999999\n",
      "0.10999999999999999\n",
      "Offered capacity for FCR-D UP: 222.43699248136056 kW\n"
     ]
    }
   ],
   "source": [
    "importlib.reload(cs)\n",
    "\n",
    "eps=0.1\n",
    "also_x_capacity, also_x_problem = cs.also_x(in_sample, eps, verbose=False)\n",
    "print(f'Offered capacity for FCR-D UP: {also_x_capacity} kW')"
   ]
  },
  {
   "cell_type": "code",
   "execution_count": 6,
   "id": "6bea75b4",
   "metadata": {},
   "outputs": [
    {
     "data": {
      "text/plain": [
       "0.0018333333333333333"
      ]
     },
     "execution_count": 6,
     "metadata": {},
     "output_type": "execute_result"
    }
   ],
   "source": [
    "# in-sample reserve shortage probability\n",
    "np.mean(in_sample-also_x_capacity < 0)"
   ]
  },
  {
   "cell_type": "markdown",
   "id": "1f66dfdc",
   "metadata": {},
   "source": [
    "# 2) Out of sample analysis"
   ]
  },
  {
   "cell_type": "code",
   "execution_count": null,
   "id": "551614b8",
   "metadata": {},
   "outputs": [
    {
     "name": "stdout",
     "output_type": "stream",
     "text": [
      "31.691019181633465\n",
      "23.94075276838663\n"
     ]
    }
   ],
   "source": [
    "all_out_samples = out_sample.flatten()\n",
    "\n",
    "all_out_samples-also_x_capacity\n",
    "print(np.quantile(all_out_samples-also_x_capacity, 0.1))\n",
    "print(np.quantile(all_out_samples-cvar_capacity, 0.1))\n",
    "\n",
    "# these values are positive (meaning the probability of reserve shortfall is less than 10% (if my logic is correct))"
   ]
  },
  {
   "cell_type": "code",
   "execution_count": null,
   "id": "9f9d31f7",
   "metadata": {},
   "outputs": [
    {
     "name": "stdout",
     "output_type": "stream",
     "text": [
      "Probability of reserve shortfall for cvar: 4.625%\n",
      "Probability of reserve shortfall for also-x: 3.0916666666666663%\n"
     ]
    }
   ],
   "source": [
    "# cross-check and compute the probability of reserve shortfall for both methods \n",
    "capacity_not_available_cvar = all_out_samples - cvar_capacity < 0\n",
    "capacity_not_available_also_x = all_out_samples - also_x_capacity < 0\n",
    "prob_unavailable_cvar = np.mean(capacity_not_available_cvar)\n",
    "prob_unavailable_also_x = np.mean(capacity_not_available_also_x)\n",
    "print(f'Out-of-sample frequency of reserve shortfall for CVaR: {prob_unavailable_cvar*100}%')\n",
    "print(f'Out-of-sample frequency of reserve shortfall for Also-X: {prob_unavailable_also_x*100}%')"
   ]
  },
  {
   "cell_type": "markdown",
   "id": "ca83c33a",
   "metadata": {},
   "source": [
    "# 3) Energinet's perspective"
   ]
  },
  {
   "cell_type": "code",
   "execution_count": null,
   "id": "a2ea3c79",
   "metadata": {},
   "outputs": [
    {
     "data": {
      "text/plain": [
       "array([0.        , 0.02222222, 0.04444444, 0.06666667, 0.08888889,\n",
       "       0.11111111, 0.13333333, 0.15555556, 0.17777778, 0.2       ])"
      ]
     },
     "execution_count": 13,
     "metadata": {},
     "output_type": "execute_result"
    }
   ],
   "source": [
    "epsilons = np.linspace(0, 0.2, 10)"
   ]
  },
  {
   "cell_type": "code",
   "execution_count": null,
   "id": "bc94bb65",
   "metadata": {},
   "outputs": [],
   "source": [
    "# NOTE: env. 1min per iteration\n",
    "results = dict()\n",
    "for eps in epsilons:\n",
    "    cvar_capacity, cvar_problem = cs.cvar(in_sample, eps, verbose=False)\n",
    "    also_x_capacity, also_x_problem = cs.also_x(in_sample, eps, verbose=False)\n",
    "\n",
    "    all_out_samples = out_sample.flatten()\n",
    "\n",
    "    capacity_not_available_cvar = all_out_samples - cvar_capacity < 0\n",
    "    capacity_not_available_also_x = all_out_samples - also_x_capacity < 0\n",
    "    prob_unavailable_cvar = np.mean(capacity_not_available_cvar)\n",
    "    prob_unavailable_also_x = np.mean(capacity_not_available_also_x)\n",
    "    results[eps] = {\n",
    "        'cvar_capacity': cvar_capacity,\n",
    "        'also_x_capacity': also_x_capacity,\n",
    "        'prob_unavailable_cvar': prob_unavailable_cvar,\n",
    "        'prob_unavailable_also_x': prob_unavailable_also_x\n",
    "    }"
   ]
  },
  {
   "cell_type": "code",
   "execution_count": 18,
   "id": "afa005e4",
   "metadata": {},
   "outputs": [],
   "source": [
    "# Save dict\n",
    "import pickle\n",
    "with open('energienet_perspective_res.pkl', 'wb') as f:\n",
    "    pickle.dump(results, f)"
   ]
  },
  {
   "cell_type": "code",
   "execution_count": 19,
   "id": "4659b4ac",
   "metadata": {},
   "outputs": [],
   "source": [
    "# Load dict\n",
    "with open('energienet_perspective_res.pkl', 'rb') as f:\n",
    "    loaded_res = pickle.load(f)"
   ]
  },
  {
   "cell_type": "code",
   "execution_count": null,
   "id": "df548be5",
   "metadata": {},
   "outputs": [
    {
     "data": {
      "image/png": "[encoded data removed]",
      "text/plain": [
       "<Figure size 1200x500 with 2 Axes>"
      ]
     },
     "metadata": {},
     "output_type": "display_data"
    }
   ],
   "source": [
    "fig, ax = plt.subplots(1, 2, figsize=(12, 5))\n",
    "\n",
    "for key in loaded_res.keys():\n",
    "    # First subplot\n",
    "    ax[0].plot(1-key, loaded_res[key]['prob_unavailable_cvar'], 'ro')\n",
    "    ax[0].plot(1-key, loaded_res[key]['prob_unavailable_also_x'], 'bo')\n",
    "\n",
    "    # Second subplot\n",
    "    ax[1].plot(1-key, loaded_res[key]['cvar_capacity'], 'r^')\n",
    "    ax[1].plot(1-key, loaded_res[key]['also_x_capacity'], 'b^')\n",
    "\n",
    "# Optionally add legends (avoid multiple duplicate entries by using unique labels or handle it once outside loop)\n",
    "ax[0].set_title('Prob Unavailable')\n",
    "ax[1].set_title('Capacity')\n",
    "ax[1].legend(['CVaR', 'Also-X'])\n",
    "ax[0].set_xlabel('P-requirement')\n",
    "ax[1].set_xlabel('P-requirement')\n",
    "ax[0].set_ylabel('Probability of reserve shortfall')\n",
    "ax[1].set_ylabel('Offered capacity (kW)')\n",
    "\n",
    "plt.tight_layout()\n",
    "plt.show()"
   ]
  }
 ],
 "metadata": {
  "kernelspec": {
   "display_name": "renewables",
   "language": "python",
   "name": "python3"
  },
  "language_info": {
   "codemirror_mode": {
    "name": "ipython",
    "version": 3
   },
   "file_extension": ".py",
   "mimetype": "text/x-python",
   "name": "python",
   "nbconvert_exporter": "python",
   "pygments_lexer": "ipython3",
   "version": "3.12.9"
  }
 },
 "nbformat": 4,
 "nbformat_minor": 5
}
